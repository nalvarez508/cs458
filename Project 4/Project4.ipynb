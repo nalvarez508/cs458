{
  "cells": [
    {
      "cell_type": "markdown",
      "metadata": {
        "id": "41ncDfQIZ5gG"
      },
      "source": [
        "# **Project 4 Report**\n",
        "\n",
        "Nick Alvarez\n",
        "\n",
        "CS458"
      ]
    },
    {
      "cell_type": "markdown",
      "metadata": {
        "id": "h8goBinPaYnd"
      },
      "source": [
        "## **P4-1. Hierarchical Clustering Dendogram**\n",
        "\n",
        "**(a) Randomly generate the following data points**\n",
        "\n",
        "**(b) Use sklearn.cluster.AgglomerativeClustering to cluster the points generated in (a). Plot your Dendrogram using different linkage{\"ward\", \"complete\", \"average\", \"single\"}.**"
      ]
    },
    {
      "cell_type": "code",
      "execution_count": 9,
      "metadata": {
        "colab": {
          "base_uri": "https://localhost:8080/",
          "height": 35
        },
        "id": "VGfsolCrbInO",
        "outputId": "6ad9aa14-3a19-4410-d01d-801cf0297e49"
      },
      "outputs": [
        {
          "name": "stdout",
          "output_type": "stream",
          "text": [
            "Print your classification accuracy, confusion matrix and plot your decision tree.\n"
          ]
        }
      ],
      "source": [
        "# Codes for P2-1(b)\n",
        "print('Print your classification accuracy, confusion matrix and plot your decision tree.')"
      ]
    },
    {
      "cell_type": "markdown",
      "metadata": {
        "id": "0NqsEu79cftE"
      },
      "source": [
        "Discuss how you optimize the parameters of your decision tree here."
      ]
    },
    {
      "cell_type": "markdown",
      "metadata": {
        "id": "_vusqyELcnd5"
      },
      "source": [
        "# **P4-2. Clustering structured dataset**\n",
        "\n",
        "**(a) Generate a swiss roll dataset**\n",
        "\n",
        "**(b) Use sklearn.cluster.AgglomerativeClustering to cluster the points generated in (a). Plot the clustered data in a 3D figure and use different colors for different clusters in your figure.**\n",
        "\n",
        "**(c) Use sklearn.cluster.DBSCAN to cluster the points generated in (a). Plot the clustered data in a 3D figure and use different colors different clusters in your figure. Discuss and compare the results of DBSCAN with the results in (b).**"
      ]
    },
    {
      "cell_type": "code",
      "execution_count": 5,
      "metadata": {
        "colab": {
          "base_uri": "https://localhost:8080/",
          "height": 35
        },
        "id": "F5PVO7WkdCAh",
        "outputId": "f2c32dae-0b60-4c19-d490-c29d47f08444"
      },
      "outputs": [
        {
          "name": "stdout",
          "output_type": "stream",
          "text": [
            "Plot the training errors and the testing errors under different numbers of nodes\n"
          ]
        }
      ],
      "source": [
        "# Codes for P2-2(b)\n",
        "print('Plot the training errors and the testing errors under different numbers of nodes')"
      ]
    },
    {
      "cell_type": "markdown",
      "metadata": {
        "id": "2_5NEhCBdXoH"
      },
      "source": [
        "Explain the model underfitting and model overfitting here."
      ]
    },
    {
      "cell_type": "markdown",
      "metadata": {
        "id": "ot87gIvndb4b"
      },
      "source": [
        "# **P4-3. Clustering the handwritten digits data**\n",
        "\n",
        "**(a) Use the following methods to cluster the data:**\n",
        "- **K-Means (sklearn.cluster.KMeans)**\n",
        "- **DBSCAN (sklearn.cluster.DBSCAN)**\n",
        "\n",
        "**Optimize the parameters of these methods.**\n",
        "\n",
        "**(b) Evaluate these methods based on the labels of the data and discuss which method gives you the best results in terms of accuracy.**"
      ]
    },
    {
      "cell_type": "code",
      "execution_count": 7,
      "metadata": {
        "colab": {
          "base_uri": "https://localhost:8080/",
          "height": 35
        },
        "id": "Sqsx5tNndiDU",
        "outputId": "04b343b5-b8df-463a-cca9-2cbdd24d459c"
      },
      "outputs": [
        {
          "name": "stdout",
          "output_type": "stream",
          "text": [
            "Print the number of documents in the training dataset and the test dataset. Print the number of attributes in the training dataset.\n"
          ]
        }
      ],
      "source": [
        "# Codes for P2-3(a)\n",
        "print('Print the number of documents in the training dataset and the test dataset. Print the number of attributes in the training dataset.')"
      ]
    },
    {
      "cell_type": "markdown",
      "metadata": {
        "id": "dalwVdZhd0Ey"
      },
      "source": [
        "Discuss how you optimize the parameters of your decision tree here."
      ]
    }
  ],
  "metadata": {
    "colab": {
      "name": "ProjectTemplate.ipynb",
      "provenance": []
    },
    "kernelspec": {
      "display_name": "Python 3",
      "name": "python3"
    }
  },
  "nbformat": 4,
  "nbformat_minor": 0
}
