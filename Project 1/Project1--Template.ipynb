{
 "cells": [
  {
   "cell_type": "markdown",
   "source": [
    "# **Project 1 Report**\r\n",
    "\r\n",
    "Nick Alvarez\r\n",
    "\r\n",
    "CS458"
   ],
   "metadata": {
    "id": "41ncDfQIZ5gG"
   }
  },
  {
   "cell_type": "markdown",
   "source": [
    "## **P1-1. Curse of Dimensionality**\n",
    "\n",
    "**(a) Generate 1000 points following a uniform distribution under a given dimension, and then compute difference between max and min distance between any pair of points. Hint: Refer to the tutorial “Introduction to Numpy and Pandas” on how to generate random points.**"
   ],
   "metadata": {
    "id": "h8goBinPaYnd"
   }
  },
  {
   "cell_type": "markdown",
   "source": [
    "**(b) Repeat (a) for different dimensions from 2 to 50.**"
   ],
   "metadata": {
    "id": "Y697pjx7bEqB"
   }
  },
  {
   "cell_type": "code",
   "execution_count": 6,
   "source": [
    "import numpy as np\r\n",
    "from scipy.spatial import ConvexHull\r\n",
    "from scipy.spatial.distance import cdist\r\n",
    "from matplotlib import pyplot as plt\r\n",
    "from progressbar import progressbar\r\n",
    "\r\n",
    "MAX_ITERATIONS = 10\r\n",
    "NUMBER_OF_POINTS = 50\r\n",
    "\r\n",
    "def findMinMax(p):\r\n",
    "  hull = ConvexHull(p)\r\n",
    "  # Extract the points forming the convex hull\r\n",
    "  hullpoints = p[hull.vertices,:]\r\n",
    "  hdist = cdist(hullpoints, hullpoints, metric='euclidean')\r\n",
    "\r\n",
    "  # Get the min/max points\r\n",
    "  maxpair = np.unravel_index(hdist.argmax(), hdist.shape)\r\n",
    "  i,j = np.where(hdist==np.min(hdist[np.nonzero(hdist)]))\r\n",
    "\r\n",
    "  pairPoints = np.array([(np.linalg.norm(hullpoints[i][0] - hullpoints[i][1])),(np.linalg.norm(hullpoints[maxpair[0]] - hullpoints[maxpair[1]]))])\r\n",
    "  logDiff = np.log10((pairPoints[1]-pairPoints[0])/pairPoints[0])\r\n",
    "  print(logDiff)\r\n",
    "  listOfLogDiffs.append(logDiff)\r\n",
    "\r\n",
    "## Plotting the log results\r\n",
    "def plotGraph():\r\n",
    "  x = np.arange(2,MAX_ITERATIONS)\r\n",
    "  y = listOfLogDiffs\r\n",
    "  plt.title(\"Curse of Dimensionality\") \r\n",
    "  plt.xlabel(\"Number of Dimensions\") \r\n",
    "  plt.ylabel(\"Log_10 * ((Max-Min)/Min)\") \r\n",
    "  plt.plot(x,y) \r\n",
    "  plt.show()\r\n",
    "\r\n",
    "listOfLogDiffs = []\r\n",
    "\r\n",
    "# Run the program\r\n",
    "for x in progressbar(range(2,MAX_ITERATIONS), redirect_stdout=True):\r\n",
    "  print(f\"({x}/{MAX_ITERATIONS}): \", end='')\r\n",
    "  findMinMax(np.random.rand(NUMBER_OF_POINTS,x))\r\n",
    "\r\n",
    "plotGraph()"
   ],
   "outputs": [],
   "metadata": {
    "colab": {
     "base_uri": "https://localhost:8080/",
     "height": 35
    },
    "id": "VGfsolCrbInO",
    "outputId": "6ad9aa14-3a19-4410-d01d-801cf0297e49",
    "scrolled": false
   }
  },
  {
   "cell_type": "markdown",
   "source": [
    "I could only generate a small number of dimensions, as running a large number of points with a high dimensionality took inhibitively long. However, the effect is shown."
   ],
   "metadata": {
    "id": "0NqsEu79cftE"
   }
  },
  {
   "cell_type": "markdown",
   "source": [
    "# **P1-2. The Iris Dataset (https://en.wikipedia.org/wiki/Iris_flower_data_set)**"
   ],
   "metadata": {
    "id": "_vusqyELcnd5"
   }
  },
  {
   "cell_type": "markdown",
   "source": [
    "**(a) Data Visualization. Duplicate the following figure using scatter plot.**"
   ],
   "metadata": {
    "id": "XbKeiSBCcx64"
   }
  },
  {
   "cell_type": "markdown",
   "source": [
    "**(b) Find the best discretization for the petal length and the petal width that can best separate the Iris data and plot a figure similar to the figure in slide 54 in Chapter 2. For each flower type, list in a table how many data samples are correctly separated and how many are not correctly separated.**"
   ],
   "metadata": {
    "id": "m70sWNEMc0a8"
   }
  },
  {
   "cell_type": "code",
   "execution_count": 8,
   "source": [
    "import matplotlib.pyplot as plt\r\n",
    "from matplotlib.patches import Rectangle\r\n",
    "import numpy as np\r\n",
    "from sklearn import datasets\r\n",
    "from sklearn.cluster import KMeans\r\n",
    "\r\n",
    "NUMBER_PLOTS_SQ = 4\r\n",
    "\r\n",
    "# import the data\r\n",
    "iris = datasets.load_iris()\r\n",
    "x = iris.data\r\n",
    "y = iris.target\r\n",
    "\r\n",
    "MarkerList = ['s', 'o', 'd']\r\n",
    "TitleList = [\"Sepal Length\", \"Sepal Width\", \"Petal Length\", \"Petal Width\"]\r\n",
    "\r\n",
    "# Create Figure 1\r\n",
    "fig, axs = plt.subplots(NUMBER_PLOTS_SQ, NUMBER_PLOTS_SQ)\r\n",
    "fig.suptitle(\"Iris Data (blue=setosa, red=versicolor, green=virginica)\")\r\n",
    "# Create Figure 2\r\n",
    "fig2, axs2 = plt.subplots()\r\n",
    "\r\n",
    "# Iris 16 plots\r\n",
    "def generatePlots():\r\n",
    "  for v in range(NUMBER_PLOTS_SQ):\r\n",
    "    for h in range(NUMBER_PLOTS_SQ):\r\n",
    "      if (v != h):\r\n",
    "        axs[v][h].scatter(x[:, h], x[:, v], s=7, c=y, cmap=plt.cm.brg, edgecolor='k', linewidth=0.5)\r\n",
    "      else:\r\n",
    "        axs[v][h].text(0.5, 0.5, TitleList[v], horizontalalignment='center', verticalalignment='center', clip_on=True)\r\n",
    "        axs[v][h].xaxis.set_visible(False)\r\n",
    "        axs[v][h].yaxis.set_visible(False)\r\n",
    "\r\n",
    "def generateDiscretization():\r\n",
    "  # Scatter two variables\r\n",
    "  IrisLabels = ['Setosa', 'Versicolor', 'Virginica']\r\n",
    "  for i in range(np.prod(y.shape)):\r\n",
    "    axs2.scatter(x[i, 2], x[i, 3], marker=MarkerList[int(i/50)], c='k', s=10.0)\r\n",
    "  #axs2.set_label(['Setosa', 'Versicolor', 'Virginica'])\r\n",
    "  for l in range(len(IrisLabels)):\r\n",
    "    axs2.scatter([],[],color='k', label=IrisLabels[l], marker=MarkerList[l])\r\n",
    "  axs2.legend()\r\n",
    "  \r\n",
    "  # Delete unnecessary variables\r\n",
    "  ClusterArray = np.delete(x, [0,1], 1)\r\n",
    "\r\n",
    "  # Generate clusters\r\n",
    "  axs2.set_xlabel(\"Petal Length (cm)\")\r\n",
    "  axs2.set_ylabel(\"Petal Width (cm)\")\r\n",
    "  km = KMeans(n_clusters=3)\r\n",
    "  km.fit(ClusterArray)\r\n",
    "\r\n",
    "  # Find centroids and plot them\r\n",
    "  km_cntr = km.cluster_centers_\r\n",
    "  axs2.scatter(km_cntr[:, 0], km_cntr[:, 1], c='red', s=15.0)\r\n",
    "  \r\n",
    "  # Create rectangles around clusters\r\n",
    "  CentroidRectangleLengths = np.empty((0,2))\r\n",
    "  for i in range(0,101,50):\r\n",
    "    try:\r\n",
    "      val_min_x, val_max_x = np.min(np.delete(ClusterArray[i:(i+50)], 1, 1), axis=0), np.max(np.delete(ClusterArray[i:(i+50)], 1, 1), axis=0)\r\n",
    "      val_min_y, val_max_y = np.min(np.delete(ClusterArray[i:(i+50)], 0, 1), axis=0), np.max(np.delete(ClusterArray[i:(i+50)], 0, 1), axis=0)\r\n",
    "      x_len, y_len = val_max_x-val_min_x, val_max_y-val_min_y\r\n",
    "      CentroidRectangleLengths = np.append(CentroidRectangleLengths, [np.concatenate((x_len, y_len))], axis=0)\r\n",
    "    except ValueError:\r\n",
    "      pass\r\n",
    "  \r\n",
    "  # Plot the rectangles\r\n",
    "  index=0\r\n",
    "  sortedCenters = np.sort(km_cntr, axis=0)\r\n",
    "  for c in (sortedCenters):\r\n",
    "    width, height = CentroidRectangleLengths[index][0], CentroidRectangleLengths[index][1]\r\n",
    "    axs2.add_patch(Rectangle(\r\n",
    "      xy=(c[0]-width/2, c[1]-height/2), width=width, height=height, linewidth=1, color='black', fill=False))\r\n",
    "    index += 1\r\n",
    "\r\n",
    "generatePlots() #(a)\r\n",
    "generateDiscretization() #(b)\r\n",
    "plt.show()"
   ],
   "outputs": [],
   "metadata": {
    "colab": {
     "base_uri": "https://localhost:8080/",
     "height": 35
    },
    "id": "F5PVO7WkdCAh",
    "outputId": "f2c32dae-0b60-4c19-d490-c29d47f08444"
   }
  },
  {
   "cell_type": "markdown",
   "source": [
    "The clusters were plotted naively as each type of flower has 50 points. So, each marker was spaced out by 50. In a real world scenario, I would need to set the markers based on the cluster results, not evenly spaced arrays.\r\n",
    "\r\n",
    "Flower types that were correctly spaced, if going by markers, are 50/50 for each group. However, the rectangles (which were also naively plotted by finding the bounding box of the cluster and placing it on top of the centroid) are not as correct.\r\n",
    "\r\n",
    "|Flower|Correct|Incorrect|\r\n",
    "|------|-------|---------|\r\n",
    "|Setosa|48|2|\r\n",
    "|Versicolor|49|1|\r\n",
    "|Virginica|48|2|\r\n",
    "\r\n",
    "Not bad for a naive approach. Although, some of the boxes do overlap."
   ],
   "metadata": {
    "id": "2_5NEhCBdXoH"
   }
  },
  {
   "cell_type": "markdown",
   "source": [
    "# **P1-3. Principal Component Analysis for The Iris Dataset**"
   ],
   "metadata": {
    "id": "ot87gIvndb4b"
   }
  },
  {
   "cell_type": "markdown",
   "source": [
    "**(a) Use the Iris dataset and plot all the samples in a figure using Sepal Length and Sepal Width, i.e., xlabel('Sepal length') and ylabel('Sepal width').**"
   ],
   "metadata": {
    "id": "YcX7qMj9dfLm"
   }
  },
  {
   "cell_type": "code",
   "execution_count": 9,
   "source": [
    "# Codes for P1-3(a)"
   ],
   "outputs": [],
   "metadata": {
    "colab": {
     "base_uri": "https://localhost:8080/",
     "height": 35
    },
    "id": "Sqsx5tNndiDU",
    "outputId": "04b343b5-b8df-463a-cca9-2cbdd24d459c"
   }
  },
  {
   "cell_type": "markdown",
   "source": [
    "**(b)The Iris dataset has 4 attributes (sepal length, sepal width, petal length, and petal width). Use PCA to reduce the dimension of the dataset from 4 to 2. Plot all the samples after the dimensionality reduction in a 2D figure. Compare this figure with the figure in (a) and discuss whether you can better separate the data samples after the dimensionality reduction.**"
   ],
   "metadata": {
    "id": "-Pix10eIdvcX"
   }
  },
  {
   "cell_type": "code",
   "execution_count": 10,
   "source": [
    "# Codes for P1-3(b)"
   ],
   "outputs": [],
   "metadata": {
    "colab": {
     "base_uri": "https://localhost:8080/",
     "height": 35
    },
    "id": "9AzoG0W3d4y_",
    "outputId": "4e6a6c07-b975-4d9a-93ed-eca479945c00"
   }
  },
  {
   "cell_type": "markdown",
   "source": [
    "Discuss your results here."
   ],
   "metadata": {
    "id": "dalwVdZhd0Ey"
   }
  }
 ],
 "metadata": {
  "colab": {
   "name": "ProjectTemplate.ipynb",
   "provenance": []
  },
  "kernelspec": {
   "display_name": "Python 3",
   "language": "python",
   "name": "python3"
  },
  "language_info": {
   "codemirror_mode": {
    "name": "ipython",
    "version": 3
   },
   "file_extension": ".py",
   "mimetype": "text/x-python",
   "name": "python",
   "nbconvert_exporter": "python",
   "pygments_lexer": "ipython3",
   "version": "3.7.3"
  }
 },
 "nbformat": 4,
 "nbformat_minor": 1
}