{
  "nbformat": 4,
  "nbformat_minor": 0,
  "metadata": {
    "colab": {
      "name": "ProjectTemplate.ipynb",
      "provenance": []
    },
    "kernelspec": {
      "name": "python3",
      "display_name": "Python 3"
    }
  },
  "cells": [
    {
      "cell_type": "markdown",
      "metadata": {
        "id": "41ncDfQIZ5gG"
      },
      "source": [
        "# **Project 2 Report**\n",
        "\n",
        "First and Last name\n",
        "\n",
        "CS458 or CS658"
      ]
    },
    {
      "cell_type": "markdown",
      "metadata": {
        "id": "h8goBinPaYnd"
      },
      "source": [
        "## **P2-1. Decision Tree**\n",
        "\n",
        "**(a) Develop a decision tree based classifier to classify the 3 different types  of Iris (Setosa, Versicolour, and Virginica).**"
      ]
    },
    {
      "cell_type": "code",
      "metadata": {
        "id": "4HJGE1w1aTqC"
      },
      "source": [
        "# Codes for P2-1(a)"
      ],
      "execution_count": 2,
      "outputs": []
    },
    {
      "cell_type": "markdown",
      "metadata": {
        "id": "onIeaqM3a_2C"
      },
      "source": [
        "Discuss how you use 5-fold cross validation to train the classifier here."
      ]
    },
    {
      "cell_type": "markdown",
      "metadata": {
        "id": "Y697pjx7bEqB"
      },
      "source": [
        "**(b) Optimize the parameters of your decision tree to maximize the classification accuracy. Show the confusion matrix of your decision tree. Plot your decision tree.**"
      ]
    },
    {
      "cell_type": "code",
      "metadata": {
        "id": "VGfsolCrbInO",
        "outputId": "6ad9aa14-3a19-4410-d01d-801cf0297e49",
        "colab": {
          "base_uri": "https://localhost:8080/",
          "height": 35
        }
      },
      "source": [
        "# Codes for P2-1(b)\n",
        "print('Print your classification accuracy, confusion matrix and plot your decision tree.')"
      ],
      "execution_count": 9,
      "outputs": [
        {
          "output_type": "stream",
          "text": [
            "Print your classification accuracy, confusion matrix and plot your decision tree.\n"
          ],
          "name": "stdout"
        }
      ]
    },
    {
      "cell_type": "markdown",
      "metadata": {
        "id": "0NqsEu79cftE"
      },
      "source": [
        "Discuss how you optimize the parameters of your decision tree here."
      ]
    },
    {
      "cell_type": "markdown",
      "metadata": {
        "id": "_vusqyELcnd5"
      },
      "source": [
        "# **P2-2. Model Overfitting**"
      ]
    },
    {
      "cell_type": "markdown",
      "metadata": {
        "id": "XbKeiSBCcx64"
      },
      "source": [
        "**(a) Generate the dataset as in slide 56 in Chapter 3**"
      ]
    },
    {
      "cell_type": "code",
      "metadata": {
        "id": "UTBWTnSxcsJc",
        "outputId": "26c32d3a-4da7-4b25-f252-420d65dcc9c0",
        "colab": {
          "base_uri": "https://localhost:8080/",
          "height": 35
        }
      },
      "source": [
        "# Codes for P2-2(a)\n",
        "print('Plot your dataset')"
      ],
      "execution_count": 4,
      "outputs": [
        {
          "output_type": "stream",
          "text": [
            "Plot your dataset\n"
          ],
          "name": "stdout"
        }
      ]
    },
    {
      "cell_type": "markdown",
      "metadata": {
        "id": "m70sWNEMc0a8"
      },
      "source": [
        "**(b) Randomly select 10% of the data as test dataset and the remaining 90% of the data as training dataset. Train decision trees by increasing the number of nodes of the decision trees until the training error becomes 0. Plot the training errors and the testing errors under different numbers of nodes and explain the model underfitting and model overfitting.**"
      ]
    },
    {
      "cell_type": "code",
      "metadata": {
        "id": "F5PVO7WkdCAh",
        "outputId": "f2c32dae-0b60-4c19-d490-c29d47f08444",
        "colab": {
          "base_uri": "https://localhost:8080/",
          "height": 35
        }
      },
      "source": [
        "# Codes for P2-2(b)\n",
        "print('Plot the training errors and the testing errors under different numbers of nodes')"
      ],
      "execution_count": 5,
      "outputs": [
        {
          "output_type": "stream",
          "text": [
            "Plot the training errors and the testing errors under different numbers of nodes\n"
          ],
          "name": "stdout"
        }
      ]
    },
    {
      "cell_type": "markdown",
      "metadata": {
        "id": "2_5NEhCBdXoH"
      },
      "source": [
        "Explain the model underfitting and model overfitting here."
      ]
    },
    {
      "cell_type": "markdown",
      "metadata": {
        "id": "ot87gIvndb4b"
      },
      "source": [
        "# **P2-3. Text Documents Classification**"
      ]
    },
    {
      "cell_type": "markdown",
      "metadata": {
        "id": "YcX7qMj9dfLm"
      },
      "source": [
        "**(a) Load the following 4 categories from the 20 newsgroups dataset: categories = ['rec.autos', 'talk.religion.misc', 'comp.graphics', 'sci.space']. Print the number of documents in the training dataset and the test dataset. Print the number of attributes in the training dataset.**"
      ]
    },
    {
      "cell_type": "code",
      "metadata": {
        "id": "Sqsx5tNndiDU",
        "outputId": "04b343b5-b8df-463a-cca9-2cbdd24d459c",
        "colab": {
          "base_uri": "https://localhost:8080/",
          "height": 35
        }
      },
      "source": [
        "# Codes for P2-3(a)\n",
        "print('Print the number of documents in the training dataset and the test dataset. Print the number of attributes in the training dataset.')"
      ],
      "execution_count": 7,
      "outputs": [
        {
          "output_type": "stream",
          "text": [
            "Print the number of documents in the training dataset and the test dataset. Print the number of attributes in the training dataset.\n"
          ],
          "name": "stdout"
        }
      ]
    },
    {
      "cell_type": "markdown",
      "metadata": {
        "id": "-Pix10eIdvcX"
      },
      "source": [
        "**(b) Optimize the parameters of your decision tree to maximize the classification accuracy. Show the confusion matrix of your decision tree.**"
      ]
    },
    {
      "cell_type": "code",
      "metadata": {
        "id": "9AzoG0W3d4y_",
        "outputId": "4e6a6c07-b975-4d9a-93ed-eca479945c00",
        "colab": {
          "base_uri": "https://localhost:8080/",
          "height": 35
        }
      },
      "source": [
        "# Codes for P2-3(b)\n",
        "print('Print your classification accuracy, confusion matrix.')"
      ],
      "execution_count": 8,
      "outputs": [
        {
          "output_type": "stream",
          "text": [
            "Print your classification accuracy, confusion matrix.\n"
          ],
          "name": "stdout"
        }
      ]
    },
    {
      "cell_type": "markdown",
      "metadata": {
        "id": "dalwVdZhd0Ey"
      },
      "source": [
        "Discuss how you optimize the parameters of your decision tree here."
      ]
    }
  ]
}