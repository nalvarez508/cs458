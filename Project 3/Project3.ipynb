{
  "cells": [
    {
      "cell_type": "markdown",
      "metadata": {
        "id": "41ncDfQIZ5gG"
      },
      "source": [
        "# **Project 3 Report**\n",
        "\n",
        "Nick Alvarez\n",
        "\n",
        "CS458"
      ]
    },
    {
      "cell_type": "markdown",
      "metadata": {
        "id": "h8goBinPaYnd"
      },
      "source": [
        "## **P3-1. Revisit Text Documents Classification**\n",
        "\n",
        "**(a) Load the following 4 categories from the 20 newsgroups dataset: categories = ['rec.autos', 'talk.religion.misc', 'comp.graphics', 'sci.space'].**"
      ]
    },
    {
      "cell_type": "markdown",
      "metadata": {
        "id": "Y697pjx7bEqB"
      },
      "source": [
        "**(b) Build classifiers using the following methods:**\n",
        "+ Support Vector Machine (sklearn.svm.LinearSVC)\n",
        "+ Naive Bayes classifiers (sklearn.naive_bayes.MultinomialNB)\n",
        "+ K-nearest neighbors (sklearn.neighbors.KNeighborsClassifier)\n",
        "+ Random forest (sklearn.ensemble.RandomForestClassifier)\n",
        "+ AdaBoost classifier (sklearn.ensemble.AdaBoostClassifier)\n",
        "\n",
        "**Optimize the hyperparameters of these methods and compare the results of these methods.**"
      ]
    },
    {
      "cell_type": "code",
      "execution_count": null,
      "metadata": {
        "colab": {
          "base_uri": "https://localhost:8080/",
          "height": 35
        },
        "id": "VGfsolCrbInO",
        "outputId": "6ad9aa14-3a19-4410-d01d-801cf0297e49"
      },
      "outputs": [],
      "source": [
        "import numpy as np\n",
        "from sklearn import datasets, model_selection, metrics\n",
        "from sklearn.feature_extraction.text import TfidfTransformer, TfidfVectorizer\n",
        "from sklearn.pipeline import Pipeline\n",
        "\n",
        "from sklearn.svm import LinearSVC\n",
        "from sklearn.naive_bayes import MultinomialNB\n",
        "from sklearn.neighbors import KNeighborsClassifier\n",
        "from sklearn.ensemble import RandomForestClassifier, AdaBoostClassifier\n",
        "\n",
        "# (a) load newsgroups\n",
        "ng_train = datasets.fetch_20newsgroups(subset='train', categories=['rec.autos', 'talk.religion.misc', 'comp.graphics', 'sci.space'], remove=('headers', 'footers', 'quotes'))\n",
        "ng_test = datasets.fetch_20newsgroups(subset='test', categories=['rec.autos', 'talk.religion.misc', 'comp.graphics', 'sci.space'], remove=('headers', 'footers', 'quotes'))\n",
        "\n",
        "y1 = ng_train.target\n",
        "y2 = ng_test.target\n",
        "\n",
        "# (b) classifiers\n",
        "\n",
        "max_depth_range = [None, 2, 5, 10]\n",
        "min_samples_leaf_range = [1, 5, 10]\n",
        "min_sample_split_range = [2, 10, 20]\n",
        "min_leaf_nodes_range = [None, 5, 10, 20]\n",
        "\n",
        "param_grid = {\"clf__criterion\": ['gini'],\n",
        "              \"clf__max_depth\": [10],\n",
        "              \"clf__min_samples_leaf\": [1, 5, 10],\n",
        "              \"clf__min_samples_split\": [20],\n",
        "              \"clf__max_leaf_nodes\": [None, 5, 10, 20]\n",
        "              }\n",
        "\n",
        "pipe_rf = Pipeline([('vect', TfidfVectorizer()),\n",
        "                      ('tfidf', TfidfTransformer()),\n",
        "                      ('clf', RandomForestClassifier())])\n",
        "\n",
        "Results_SVC_Penalty = {\n",
        "  \"l1\" : 0,\n",
        "  \"l2\" : 0\n",
        "}\n",
        "\n",
        "Results_Bayes_Alpha = {\n",
        "  0.001 : 0,\n",
        "  0.01 : 0,\n",
        "  0.1 : 0\n",
        "}\n",
        "\n",
        "Results_KNN_Neighbors = {\n",
        "  5 : 0,\n",
        "  10 : 0,\n",
        "  15 : 0\n",
        "}\n",
        "\n",
        "Results_Ada_LearningRate = {\n",
        "  0.001 : 0,\n",
        "  0.01 : 0,\n",
        "  0.1 : 0,\n",
        "  1.0 : 0\n",
        "}\n",
        "\n",
        "Results_Forest_Multiple = dict()\n",
        "\n",
        "def trainMe(clf, Results, hyperparameter):\n",
        "  print(f\"Testing {str(clf)}\")\n",
        "  clf.fit(x1, y1)\n",
        "  pred = clf.predict(x2)\n",
        "  score = metrics.accuracy_score(y2, pred)\n",
        "  Results[hyperparameter] = score\n",
        "\n",
        "def runTests():\n",
        "  # Support Vector Machine (LinearSVC)\n",
        "  for hp in Results_SVC_Penalty:\n",
        "    trainMe(LinearSVC(penalty=hp, tol=1e-3, dual=False), Results_SVC_Penalty, hp)\n",
        "\n",
        "  # Naive Bayes (MultinomialNB)\n",
        "  for hp in Results_Bayes_Alpha:\n",
        "    trainMe(MultinomialNB(alpha=hp), Results_Bayes_Alpha, hp)\n",
        "\n",
        "  # K-nearest Neighbors (KNeighborsClassifier)\n",
        "  for hp in Results_KNN_Neighbors:\n",
        "    trainMe(KNeighborsClassifier(n_neighbors=hp), Results_KNN_Neighbors, hp)\n",
        "\n",
        "  # Random forest (RandomForestClassifier)\n",
        "  print(\"Testing RandomForestClassifier(*)\")\n",
        "  grid = model_selection.GridSearchCV(estimator=pipe_rf, param_grid=param_grid, scoring='accuracy', refit=True, verbose=True)\n",
        "  grid.fit(ng_train.data, ng_train.target)\n",
        "  means = grid.cv_results_[\"mean_test_score\"]\n",
        "  for mean, params in zip(means, grid.cv_results_[\"params\"]):\n",
        "    Results_Forest_Multiple.update({str(params) : mean})\n",
        "\n",
        "  # AdaBoost (AdaBoostClassifier)\n",
        "  for hp in Results_Ada_LearningRate:\n",
        "    trainMe(AdaBoostClassifier(learning_rate=hp), Results_Ada_LearningRate, hp)\n",
        "  \n",
        "def printDictReallyNice(d):\n",
        "  for k,v in d.items():\n",
        "    print(k, ' : ', v)\n",
        "\n",
        "vectorizer = TfidfVectorizer(sublinear_tf=True, max_df=0.5, stop_words='english',)\n",
        "x1 = vectorizer.fit_transform(ng_train.data)\n",
        "x2 = vectorizer.transform(ng_test.data)\n",
        "\n",
        "runTests()\n",
        "print(\"\\nFormat = Hyperparameter : Accuracy\")\n",
        "print(f'\\nSupport Vector Machine\\nHyperparameter: Penalty')\n",
        "printDictReallyNice(Results_SVC_Penalty)\n",
        "print(f'\\nNaive Bayes\\nHyperparameter: Smoothing (alpha)')\n",
        "printDictReallyNice(Results_Bayes_Alpha)\n",
        "print(f'\\nK-nearest Neighbors\\nHyperparameter: Number of Neighbors')\n",
        "printDictReallyNice(Results_KNN_Neighbors)\n",
        "print(f'\\nRandom Forest\\nHyperparameter: Max Depth, Min Samples Leaf, Min Samples Split, Min Leaf Nodes')\n",
        "printDictReallyNice(Results_Forest_Multiple)\n",
        "print(f'\\nAdaBoost Classifier\\nHyperparameter: Learning Rate')\n",
        "printDictReallyNice(Results_Ada_LearningRate)"
      ]
    },
    {
      "cell_type": "markdown",
      "metadata": {
        "id": "0NqsEu79cftE"
      },
      "source": [
        "Discuss how you optimize the parameters of your decision tree here."
      ]
    },
    {
      "cell_type": "markdown",
      "metadata": {
        "id": "_vusqyELcnd5"
      },
      "source": [
        "## **P3-2. Recognizing hand-written digits**"
      ]
    },
    {
      "cell_type": "markdown",
      "metadata": {
        "id": "XbKeiSBCcx64"
      },
      "source": [
        "**(a) Develop a multi-layer perceptron classifier to recognize images of hand-written digits.**"
      ]
    },
    {
      "cell_type": "markdown",
      "metadata": {
        "id": "m70sWNEMc0a8"
      },
      "source": [
        "**(b) Optimize the hyperparameters of your neural network to maximize the classification accuracy. Show the confusion matrix of your neural network. Discuss and compare your results with the results using a support vector classifier (see https://scikit-learn.org/stable/auto_examples/classification/plot_digits_classification.html#sphx-glr-auto-examples-classification-plot-digits-classification-py).**"
      ]
    },
    {
      "cell_type": "code",
      "execution_count": 4,
      "metadata": {
        "colab": {
          "base_uri": "https://localhost:8080/",
          "height": 35
        },
        "id": "F5PVO7WkdCAh",
        "outputId": "f2c32dae-0b60-4c19-d490-c29d47f08444"
      },
      "outputs": [
        {
          "name": "stdout",
          "output_type": "stream",
          "text": [
            "Testing MLPClassifier()\n",
            "Testing MLPClassifier(alpha=0.001)\n",
            "Testing MLPClassifier(alpha=0.01)\n",
            "Testing MLPClassifier(alpha=0.1)\n",
            "Testing SVC(gamma=0.0001)\n",
            "Testing SVC(gamma=0.001)\n",
            "Testing SVC(gamma=0.01)\n",
            "Testing SVC(gamma=0.1)\n",
            "\n",
            "Format = Hyperparameter : Accuracy\n",
            "\n",
            "Multi-layer Perceptron\n",
            "Hyperparameter: Regularization (alpha)\n",
            "0.0001  :  0.9577308120133482\n",
            "0.001  :  0.9721913236929922\n",
            "0.01  :  0.9610678531701891\n",
            "0.1  :  0.9666295884315906\n",
            "\n",
            "Support Vector Machine\n",
            "Hyperparameter: Gamma\n",
            "0.0001  :  0.9599555061179088\n",
            "0.001  :  0.9877641824249166\n",
            "0.01  :  0.5439377085650723\n",
            "0.1  :  0.08342602892102335\n",
            "\n",
            "Using MLPClassifier(alpha=0.001) as best NN...\n",
            "\n",
            " -- Confusion Matrix of Neural Network --\n",
            "[[88  0  0  0  0  0  0  0  0  0]\n",
            " [ 0 94  0  0  0  0  0  0  1  0]\n",
            " [ 1  1 86  0  0  0  0  0  0  0]\n",
            " [ 0  0  0 88  0  0  0  1  2  0]\n",
            " [ 0  0  0  0 93  2  0  2  0  2]\n",
            " [ 0  0  0  0  1 95  1  0  0  0]\n",
            " [ 0  1  0  0  0  0 86  0  0  0]\n",
            " [ 0  0  0  1  1  0  0 84  0  1]\n",
            " [ 0  2  0  0  0  1  2  0 70  0]\n",
            " [ 0  1  0  0  0  1  0  0  0 90]]\n"
          ]
        }
      ],
      "source": [
        "from sklearn import datasets, metrics\n",
        "from sklearn.neural_network import MLPClassifier\n",
        "from sklearn.svm import SVC\n",
        "from sklearn.model_selection import train_test_split\n",
        "\n",
        "# (a) build classifier\n",
        "digits = datasets.load_digits()\n",
        "x1, x2, y1, y2 = train_test_split(digits.data, digits.target, test_size=0.5)\n",
        "good_clf = None\n",
        "\n",
        "class Neural:\n",
        "  def __init__(self, a):\n",
        "    self.alpha = a\n",
        "    self.clf = MLPClassifier(alpha=a)\n",
        "    self.score = 0\n",
        "  \n",
        "  def update(self, s):\n",
        "    self.score = s\n",
        "\n",
        "Results_MLP_Alpha = {\n",
        "  0.0001 : Neural(0.0001),\n",
        "  0.001 : Neural(0.001),\n",
        "  0.01 : Neural(0.01),\n",
        "  0.1 : Neural(0.1)\n",
        "}\n",
        "\n",
        "Results_SVC_Gamma = {\n",
        "  0.0001 : 0,\n",
        "  0.001 : 0,\n",
        "  0.01 : 0,\n",
        "  0.1 : 0\n",
        "}\n",
        "\n",
        "def trainMe(clf, Results, hyperparameter):\n",
        "  print(f\"Testing {str(clf)}\")\n",
        "  clf.fit(x1, y1)\n",
        "  pred = clf.predict(x2)\n",
        "  score = metrics.accuracy_score(y2, pred)\n",
        "  try:\n",
        "    Results[hyperparameter].score = score\n",
        "  except AttributeError:\n",
        "    Results[hyperparameter] = score\n",
        "\n",
        "def runTests():\n",
        "  global good_clf\n",
        "\n",
        "  # MLPClassifier\n",
        "  max_score = 0\n",
        "  for hp in Results_MLP_Alpha:\n",
        "    trainMe(Results_MLP_Alpha[hp].clf, Results_MLP_Alpha, hp)\n",
        "    if Results_MLP_Alpha[hp].score > max_score:\n",
        "      max_score = Results_MLP_Alpha[hp].score\n",
        "      good_clf = Results_MLP_Alpha[hp].clf\n",
        "\n",
        "  # SVC\n",
        "  for hp in Results_SVC_Gamma:\n",
        "    trainMe(SVC(gamma=hp, tol=1e-3), Results_SVC_Gamma, hp)\n",
        "\n",
        "def printDictReallyNice(d):\n",
        "  for k,v in d.items():\n",
        "    try:\n",
        "      print(k, ' : ', v.score)\n",
        "    except AttributeError:\n",
        "      print(k, ' : ', v)\n",
        "\n",
        "runTests()\n",
        "print(\"\\nFormat = Hyperparameter : Accuracy\")\n",
        "print(f'\\nMulti-layer Perceptron\\nHyperparameter: Regularization (alpha)')\n",
        "printDictReallyNice(Results_MLP_Alpha)\n",
        "print(f'\\nSupport Vector Machine\\nHyperparameter: Gamma')\n",
        "printDictReallyNice(Results_SVC_Gamma)\n",
        "print()\n",
        "print(f\"Using {str(good_clf)} as best NN...\\n\")\n",
        "print(\" -- Confusion Matrix of Neural Network --\")\n",
        "print(metrics.confusion_matrix(y2, good_clf.predict(x2)))"
      ]
    },
    {
      "cell_type": "markdown",
      "metadata": {
        "id": "2_5NEhCBdXoH"
      },
      "source": [
        "The multi-layer perceptron is clearly the better classifier for this situation. Accuracy hovers around 96% even after adjusting hyperparameter for regularization. Meanwhile, the Support Vector Machine is accurate at lower gamma values but loses accuracy significantly at higher values."
      ]
    },
    {
      "cell_type": "markdown",
      "metadata": {
        "id": "ot87gIvndb4b"
      },
      "source": [
        "## **P3-3. Nonlinear Support Vector Machine**"
      ]
    },
    {
      "cell_type": "markdown",
      "metadata": {
        "id": "YcX7qMj9dfLm"
      },
      "source": [
        "**(a) Randomly generate the following 2-class data points.**"
      ]
    },
    {
      "cell_type": "markdown",
      "metadata": {
        "id": "-Pix10eIdvcX"
      },
      "source": [
        "**(b) Develop a nonlinear SVM binary classifier (sklearn.svm.NuSVC).**"
      ]
    },
    {
      "cell_type": "markdown",
      "metadata": {},
      "source": [
        "**(c) Plot these data points and the corresponding decision boundaries, which is similar to the figure in the slide 131 in Chapter 4.**"
      ]
    },
    {
      "cell_type": "code",
      "execution_count": 7,
      "metadata": {},
      "outputs": [
        {
          "data": {
            "image/png": "[encoded data removed]",
            "text/plain": [
              "<Figure size 432x288 with 1 Axes>"
            ]
          },
          "metadata": {
            "needs_background": "light"
          },
          "output_type": "display_data"
        }
      ],
      "source": [
        "import numpy as np\n",
        "from sklearn.svm import NuSVC\n",
        "import matplotlib.pyplot as plt\n",
        "\n",
        "# (a) generate 2-class data points\n",
        "np.random.seed(0)\n",
        "x = np.random.rand(300,2) * 10 - 5\n",
        "y = np.logical_xor(x[:,0]>0, x[:,1]>0)\n",
        "\n",
        "# (b) develop nonlinear SVM binary classifier\n",
        "clf = NuSVC(gamma='auto')\n",
        "clf.fit(x,y)\n",
        "\n",
        "# (c) plot the decision boundaries\n",
        "xx, yy = np.meshgrid(np.linspace(-3, 3, 500), np.linspace(-3, 3, 500))\n",
        "z = clf.decision_function(np.c_[xx.ravel(),yy.ravel()])\n",
        "z = z.reshape(xx.shape)\n",
        "\n",
        "cont = plt.contour(xx, yy, z, linewidths=2, levels=[0])\n",
        "plt.scatter(x[y == 0,0], x[y == 0,1], marker='o', cmap=plt.cm.bwr, edgecolors='k')\n",
        "plt.scatter(x[y == 1,0], x[y == 1,1], marker='s', cmap=plt.cm.bwr, edgecolors='k')\n",
        "plt.show()"
      ]
    },
    {
      "cell_type": "markdown",
      "metadata": {},
      "source": [
        "The graph shows that the classifier is fairly acccurate in its decision boundaries. Only a few points are misclassified."
      ]
    }
  ],
  "metadata": {
    "colab": {
      "name": "ProjectTemplate.ipynb",
      "provenance": []
    },
    "interpreter": {
      "hash": "aee8b7b246df8f9039afb4144a1f6fd8d2ca17a180786b69acc140d282b71a49"
    },
    "kernelspec": {
      "display_name": "Python 3.9.6 64-bit",
      "name": "python3"
    },
    "language_info": {
      "codemirror_mode": {
        "name": "ipython",
        "version": 3
      },
      "file_extension": ".py",
      "mimetype": "text/x-python",
      "name": "python",
      "nbconvert_exporter": "python",
      "pygments_lexer": "ipython3",
      "version": "3.9.6"
    }
  },
  "nbformat": 4,
  "nbformat_minor": 0
}
