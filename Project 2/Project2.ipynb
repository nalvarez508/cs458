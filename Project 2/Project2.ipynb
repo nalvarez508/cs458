{
  "nbformat": 4,
  "nbformat_minor": 2,
  "metadata": {
    "colab": {
      "name": "ProjectTemplate.ipynb",
      "provenance": []
    },
    "kernelspec": {
      "name": "python3",
      "display_name": "Python 3.9.2 64-bit"
    },
    "language_info": {
      "name": "python",
      "version": "3.9.2",
      "mimetype": "text/x-python",
      "codemirror_mode": {
        "name": "ipython",
        "version": 3
      },
      "pygments_lexer": "ipython3",
      "nbconvert_exporter": "python",
      "file_extension": ".py"
    },
    "interpreter": {
      "hash": "baf91dbf765a80fd10386c25bac8886df1c659a2eae2e43da9a4443c39e1376e"
    }
  },
  "cells": [
    {
      "cell_type": "markdown",
      "source": [
        "# **Project 2 Report**\r\n",
        "\r\n",
        "Nick Alvarez\r\n",
        "\r\n",
        "CS458"
      ],
      "metadata": {
        "id": "41ncDfQIZ5gG"
      }
    },
    {
      "cell_type": "markdown",
      "source": [
        "## **P2-1. Decision Tree**\n",
        "\n",
        "**(a) Develop a decision tree based classifier to classify the 3 different types  of Iris (Setosa, Versicolour, and Virginica).**"
      ],
      "metadata": {
        "id": "h8goBinPaYnd"
      }
    },
    {
      "cell_type": "markdown",
      "source": [
        "Discuss how you use 5-fold cross validation to train the classifier here."
      ],
      "metadata": {
        "id": "onIeaqM3a_2C"
      }
    },
    {
      "cell_type": "markdown",
      "source": [
        "**(b) Optimize the parameters of your decision tree to maximize the classification accuracy. Show the confusion matrix of your decision tree. Plot your decision tree.**"
      ],
      "metadata": {
        "id": "Y697pjx7bEqB"
      }
    },
    {
      "cell_type": "code",
      "execution_count": 8,
      "source": [
        "from sklearn import datasets, model_selection, tree, metrics, svm, preprocessing\r\n",
        "from sklearn.pipeline import make_pipeline\r\n",
        "import matplotlib.pyplot as plt\r\n",
        "import numpy as np\r\n",
        "\r\n",
        "# (a) Develop classifier\r\n",
        "iris = datasets.load_iris()\r\n",
        "clf = tree.DecisionTreeClassifier(random_state=0)\r\n",
        "clf = clf.fit(iris.data, iris.target)\r\n",
        "#tree.plot_tree(clf, filled=True, class_names=iris.target_names)\r\n",
        "#plt.show()\r\n",
        "\r\n",
        "# (b) Cross validation\r\n",
        "X_train, X_test, y_train, y_test = model_selection.train_test_split(iris.data, iris.target, test_size=0.1, random_state=0)\r\n",
        "\r\n",
        "avgAccuracy = 0.0\r\n",
        "skf = model_selection.StratifiedKFold(n_splits=5)\r\n",
        "skf.get_n_splits(iris.data, iris.target)\r\n",
        "for train_index, test_index in skf.split(iris.data, iris.target):\r\n",
        "    #print(\"TRAIN:\", train_index, \"TEST:\", test_index)\r\n",
        "    X_train, X_test = iris.data[train_index], iris.data[test_index]\r\n",
        "    y_train, y_test = iris.target[train_index], iris.target[test_index]\r\n",
        "    clf = svm.SVC(kernel='linear', C=1, random_state=42)\r\n",
        "    scores = model_selection.cross_val_score(clf, X_train, y_train, cv=5)\r\n",
        "    #print(scores)\r\n",
        "    avgAccuracy += np.average(scores)\r\n",
        "avgAccuracy /= 5\r\n",
        "print(\"Accuracy of five-fold cross validation is \", avgAccuracy)\r\n",
        "\r\n",
        "max_depth_range = [None, 2, 5, 10]\r\n",
        "min_samples_leaf_range = [1, 5, 10]\r\n",
        "min_sample_split_range = [2,10, 20]\r\n",
        "min_leaf_nodes_range = [None, 5, 10, 20]\r\n",
        "\r\n",
        "param_grid = {\"criterion\": ['gini'],\r\n",
        "              \"max_depth\": max_depth_range,\r\n",
        "              \"min_samples_leaf\": min_samples_leaf_range,\r\n",
        "              \"min_samples_split\": min_sample_split_range,\r\n",
        "              \"max_leaf_nodes\": min_leaf_nodes_range\r\n",
        "              }\r\n",
        "\r\n",
        "grid = model_selection.GridSearchCV(estimator=tree.DecisionTreeClassifier(), param_grid=param_grid, cv=5, scoring='accuracy', refit=True)\r\n",
        "\r\n",
        "clf = make_pipeline(preprocessing.StandardScaler(), grid)\r\n",
        "clf.fit(X_train, y_train)\r\n",
        "print(\"Accuracy of hyperparameter tuning is \", grid.best_score_)\r\n",
        "print(grid.best_params_)\r\n",
        "y_pred = grid.best_estimator_.predict(X_test)\r\n",
        "print(metrics.confusion_matrix(y_test, y_pred))\r\n",
        "tree.plot_tree(grid.best_estimator_, filled=True, class_names=iris.target_names)\r\n",
        "plt.show()"
      ],
      "outputs": [
        {
          "output_type": "stream",
          "name": "stdout",
          "text": [
            "Accuracy of five-fold cross validation is  0.9783333333333333\n",
            "Accuracy of hyperparameter tuning is  0.9666666666666668\n",
            "{'criterion': 'gini', 'max_depth': None, 'max_leaf_nodes': 5, 'min_samples_leaf': 1, 'min_samples_split': 20}\n",
            "[[ 0  0 10]\n",
            " [ 0  0 10]\n",
            " [ 0  0 10]]\n"
          ]
        },
        {
          "output_type": "display_data",
          "data": {
            "image/png": "[encoded data removed]",
            "text/plain": [
              "<Figure size 432x288 with 1 Axes>"
            ]
          },
          "metadata": {
            "needs_background": "light"
          }
        }
      ],
      "metadata": {
        "id": "VGfsolCrbInO",
        "outputId": "6ad9aa14-3a19-4410-d01d-801cf0297e49",
        "colab": {
          "base_uri": "https://localhost:8080/",
          "height": 35
        }
      }
    },
    {
      "cell_type": "markdown",
      "source": [
        "Discuss how you optimize the parameters of your decision tree here."
      ],
      "metadata": {
        "id": "0NqsEu79cftE"
      }
    },
    {
      "cell_type": "markdown",
      "source": [
        "# **P2-2. Model Overfitting**"
      ],
      "metadata": {
        "id": "_vusqyELcnd5"
      }
    },
    {
      "cell_type": "markdown",
      "source": [
        "**(a) Generate the dataset as in slide 56 in Chapter 3**"
      ],
      "metadata": {
        "id": "XbKeiSBCcx64"
      }
    },
    {
      "cell_type": "code",
      "execution_count": 4,
      "source": [
        "# Codes for P2-2(a)\r\n",
        "print('Plot your dataset')"
      ],
      "outputs": [
        {
          "output_type": "stream",
          "name": "stdout",
          "text": [
            "Plot your dataset\n"
          ]
        }
      ],
      "metadata": {
        "id": "UTBWTnSxcsJc",
        "outputId": "26c32d3a-4da7-4b25-f252-420d65dcc9c0",
        "colab": {
          "base_uri": "https://localhost:8080/",
          "height": 35
        }
      }
    },
    {
      "cell_type": "markdown",
      "source": [
        "**(b) Randomly select 10% of the data as test dataset and the remaining 90% of the data as training dataset. Train decision trees by increasing the number of nodes of the decision trees until the training error becomes 0. Plot the training errors and the testing errors under different numbers of nodes and explain the model underfitting and model overfitting.**"
      ],
      "metadata": {
        "id": "m70sWNEMc0a8"
      }
    },
    {
      "cell_type": "code",
      "execution_count": 5,
      "source": [
        "# Codes for P2-2(b)\r\n",
        "print('Plot the training errors and the testing errors under different numbers of nodes')"
      ],
      "outputs": [
        {
          "output_type": "stream",
          "name": "stdout",
          "text": [
            "Plot the training errors and the testing errors under different numbers of nodes\n"
          ]
        }
      ],
      "metadata": {
        "id": "F5PVO7WkdCAh",
        "outputId": "f2c32dae-0b60-4c19-d490-c29d47f08444",
        "colab": {
          "base_uri": "https://localhost:8080/",
          "height": 35
        }
      }
    },
    {
      "cell_type": "markdown",
      "source": [
        "Explain the model underfitting and model overfitting here."
      ],
      "metadata": {
        "id": "2_5NEhCBdXoH"
      }
    },
    {
      "cell_type": "markdown",
      "source": [
        "# **P2-3. Text Documents Classification**"
      ],
      "metadata": {
        "id": "ot87gIvndb4b"
      }
    },
    {
      "cell_type": "markdown",
      "source": [
        "**(a) Load the following 4 categories from the 20 newsgroups dataset: categories = ['rec.autos', 'talk.religion.misc', 'comp.graphics', 'sci.space']. Print the number of documents in the training dataset and the test dataset. Print the number of attributes in the training dataset.**"
      ],
      "metadata": {
        "id": "YcX7qMj9dfLm"
      }
    },
    {
      "cell_type": "code",
      "execution_count": 7,
      "source": [
        "# Codes for P2-3(a)\r\n",
        "print('Print the number of documents in the training dataset and the test dataset. Print the number of attributes in the training dataset.')"
      ],
      "outputs": [
        {
          "output_type": "stream",
          "name": "stdout",
          "text": [
            "Print the number of documents in the training dataset and the test dataset. Print the number of attributes in the training dataset.\n"
          ]
        }
      ],
      "metadata": {
        "id": "Sqsx5tNndiDU",
        "outputId": "04b343b5-b8df-463a-cca9-2cbdd24d459c",
        "colab": {
          "base_uri": "https://localhost:8080/",
          "height": 35
        }
      }
    },
    {
      "cell_type": "markdown",
      "source": [
        "**(b) Optimize the parameters of your decision tree to maximize the classification accuracy. Show the confusion matrix of your decision tree.**"
      ],
      "metadata": {
        "id": "-Pix10eIdvcX"
      }
    },
    {
      "cell_type": "code",
      "execution_count": 8,
      "source": [
        "# Codes for P2-3(b)\r\n",
        "print('Print your classification accuracy, confusion matrix.')"
      ],
      "outputs": [
        {
          "output_type": "stream",
          "name": "stdout",
          "text": [
            "Print your classification accuracy, confusion matrix.\n"
          ]
        }
      ],
      "metadata": {
        "id": "9AzoG0W3d4y_",
        "outputId": "4e6a6c07-b975-4d9a-93ed-eca479945c00",
        "colab": {
          "base_uri": "https://localhost:8080/",
          "height": 35
        }
      }
    },
    {
      "cell_type": "markdown",
      "source": [
        "Discuss how you optimize the parameters of your decision tree here."
      ],
      "metadata": {
        "id": "dalwVdZhd0Ey"
      }
    }
  ]
}