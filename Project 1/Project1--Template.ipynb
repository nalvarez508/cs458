{
 "cells": [
  {
   "cell_type": "markdown",
   "metadata": {
    "id": "41ncDfQIZ5gG"
   },
   "source": [
    "# **Project 1 Report**\n",
    "\n",
    "First and Last name\n",
    "\n",
    "CS458 or CS658"
   ]
  },
  {
   "cell_type": "markdown",
   "metadata": {
    "id": "h8goBinPaYnd"
   },
   "source": [
    "## **P1-1. Curse of Dimensionality**\n",
    "\n",
    "**(a) Generate 1000 points following a uniform distribution under a given dimension, and then compute difference between max and min distance between any pair of points. Hint: Refer to the tutorial “Introduction to Numpy and Pandas” on how to generate random points.**"
   ]
  },
  {
   "cell_type": "code",
   "execution_count": 5,
   "metadata": {
    "id": "4HJGE1w1aTqC"
   },
   "outputs": [],
   "source": [
    "# Codes for P1-1(a)"
   ]
  },
  {
   "cell_type": "markdown",
   "metadata": {
    "id": "Y697pjx7bEqB"
   },
   "source": [
    "**(b) Repeat (a) for different dimensions from 2 to 50.**"
   ]
  },
  {
   "cell_type": "code",
   "execution_count": 6,
   "metadata": {
    "colab": {
     "base_uri": "https://localhost:8080/",
     "height": 35
    },
    "id": "VGfsolCrbInO",
    "outputId": "6ad9aa14-3a19-4410-d01d-801cf0297e49",
    "scrolled": false
   },
   "outputs": [],
   "source": [
    "# Codes for P2-1(b)"
   ]
  },
  {
   "cell_type": "markdown",
   "metadata": {
    "id": "0NqsEu79cftE"
   },
   "source": [
    "Plot log_10(max-min)/min under different number of dimensions. "
   ]
  },
  {
   "cell_type": "markdown",
   "metadata": {
    "id": "_vusqyELcnd5"
   },
   "source": [
    "# **P1-2. The Iris Dataset (https://en.wikipedia.org/wiki/Iris_flower_data_set)**"
   ]
  },
  {
   "cell_type": "markdown",
   "metadata": {
    "id": "XbKeiSBCcx64"
   },
   "source": [
    "**(a) Data Visualization. Duplicate the following figure using scatter plot.**"
   ]
  },
  {
   "cell_type": "code",
   "execution_count": 7,
   "metadata": {
    "colab": {
     "base_uri": "https://localhost:8080/",
     "height": 35
    },
    "id": "UTBWTnSxcsJc",
    "outputId": "26c32d3a-4da7-4b25-f252-420d65dcc9c0"
   },
   "outputs": [],
   "source": [
    "# Codes for P1-2(a)"
   ]
  },
  {
   "cell_type": "markdown",
   "metadata": {
    "id": "m70sWNEMc0a8"
   },
   "source": [
    "**(b) Find the best discretization for the petal length and the petal width that can best separate the Iris data and plot a figure similar to the figure in slide 54 in Chapter 2. For each flower type, list in a table how many data samples are correctly separated and how many are not correctly separated.**"
   ]
  },
  {
   "cell_type": "code",
   "execution_count": 8,
   "metadata": {
    "colab": {
     "base_uri": "https://localhost:8080/",
     "height": 35
    },
    "id": "F5PVO7WkdCAh",
    "outputId": "f2c32dae-0b60-4c19-d490-c29d47f08444"
   },
   "outputs": [],
   "source": [
    "# Codes for P1-2(b)"
   ]
  },
  {
   "cell_type": "markdown",
   "metadata": {
    "id": "2_5NEhCBdXoH"
   },
   "source": [
    "Discuss your results here."
   ]
  },
  {
   "cell_type": "markdown",
   "metadata": {
    "id": "ot87gIvndb4b"
   },
   "source": [
    "# **P1-3. Principal Component Analysis for The Iris Dataset**"
   ]
  },
  {
   "cell_type": "markdown",
   "metadata": {
    "id": "YcX7qMj9dfLm"
   },
   "source": [
    "**(a) Use the Iris dataset and plot all the samples in a figure using Sepal Length and Sepal Width, i.e., xlabel('Sepal length') and ylabel('Sepal width').**"
   ]
  },
  {
   "cell_type": "code",
   "execution_count": 9,
   "metadata": {
    "colab": {
     "base_uri": "https://localhost:8080/",
     "height": 35
    },
    "id": "Sqsx5tNndiDU",
    "outputId": "04b343b5-b8df-463a-cca9-2cbdd24d459c"
   },
   "outputs": [],
   "source": [
    "# Codes for P1-3(a)"
   ]
  },
  {
   "cell_type": "markdown",
   "metadata": {
    "id": "-Pix10eIdvcX"
   },
   "source": [
    "**(b)The Iris dataset has 4 attributes (sepal length, sepal width, petal length, and petal width). Use PCA to reduce the dimension of the dataset from 4 to 2. Plot all the samples after the dimensionality reduction in a 2D figure. Compare this figure with the figure in (a) and discuss whether you can better separate the data samples after the dimensionality reduction.**"
   ]
  },
  {
   "cell_type": "code",
   "execution_count": 10,
   "metadata": {
    "colab": {
     "base_uri": "https://localhost:8080/",
     "height": 35
    },
    "id": "9AzoG0W3d4y_",
    "outputId": "4e6a6c07-b975-4d9a-93ed-eca479945c00"
   },
   "outputs": [],
   "source": [
    "# Codes for P1-3(b)"
   ]
  },
  {
   "cell_type": "markdown",
   "metadata": {
    "id": "dalwVdZhd0Ey"
   },
   "source": [
    "Discuss your results here."
   ]
  }
 ],
 "metadata": {
  "colab": {
   "name": "ProjectTemplate.ipynb",
   "provenance": []
  },
  "kernelspec": {
   "display_name": "Python 3",
   "language": "python",
   "name": "python3"
  },
  "language_info": {
   "codemirror_mode": {
    "name": "ipython",
    "version": 3
   },
   "file_extension": ".py",
   "mimetype": "text/x-python",
   "name": "python",
   "nbconvert_exporter": "python",
   "pygments_lexer": "ipython3",
   "version": "3.7.3"
  }
 },
 "nbformat": 4,
 "nbformat_minor": 1
}
